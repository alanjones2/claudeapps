{
 "cells": [
  {
   "cell_type": "markdown",
   "metadata": {},
   "source": [
    "# A simple Claude 3 app"
   ]
  },
  {
   "cell_type": "code",
   "execution_count": 3,
   "metadata": {},
   "outputs": [],
   "source": [
    "import anthropic"
   ]
  },
  {
   "cell_type": "code",
   "execution_count": 4,
   "metadata": {},
   "outputs": [
    {
     "name": "stdout",
     "output_type": "stream",
     "text": [
      "[TextBlock(text=\"The Himalayas were formed through a process of continental collision that began approximately 50 million years ago and is still ongoing today. Here's a brief overview of their formation:\\n\\n1. Plate Tectonics: The formation of the Himalayas is a result of the movement of tectonic plates, specifically the collision between the Indian Plate and the Eurasian Plate.\\n\\n2. Ancient Ocean: Before the collision, there was an ancient ocean called the Tethys Sea between the Indian and Eurasian plates.\\n\\n3. Northward Movement: The Indian Plate, which was once part of the southern supercontinent Gondwana, began moving northward about 200 million years ago.\\n\\n4. Collision: Around 50-55 million years ago, the Indian Plate collided with the Eurasian Plate. As both plates are composed of continental crust, neither could subduct fully beneath the other.\\n\\n5. Compression and Uplift: The collision caused intense compression of the Earth's crust. The land at the collision zone was forced upwards, creating the Himalayan mountain range.\\n\\n6. Continued Pressure: The Indian Plate continues to move northward at about 1.5 inches (4 cm) per year, maintaining pressure on the Eurasian Plate and causing the Himalayas to grow taller by about 5 mm annually.\\n\\n7. Folding and Faulting: The intense pressure has resulted in complex folding and faulting of rock layers, contributing to the rugged terrain of the Himalayas.\\n\\nThis ongoing process of mountain building (orogeny) makes the Himalayas one of the youngest and highest mountain ranges on Earth, with Mount Everest as its highest peak.\", type='text')]\n"
     ]
    }
   ],
   "source": [
    "client = anthropic.Anthropic(api_key=\"YOU API KEY HERE\")\n",
    "\n",
    "message = client.messages.create(\n",
    "    model=\"claude-3-5-sonnet-20240620\",\n",
    "    max_tokens=1000,\n",
    "    temperature=0,\n",
    "    system=\"You are a helpful agent, please answer the queries as best you can\",\n",
    "    messages=[\n",
    "        {\n",
    "            \"role\": \"user\",\n",
    "            \"content\": [\n",
    "                {\n",
    "                    \"type\": \"text\",\n",
    "                    \"text\": \"How were the Himalayas formed?\"\n",
    "                }\n",
    "            ]\n",
    "        }\n",
    "    ]\n",
    ")\n",
    "print(message.content)"
   ]
  },
  {
   "cell_type": "code",
   "execution_count": 5,
   "metadata": {},
   "outputs": [],
   "source": [
    "j = message.to_dict()"
   ]
  },
  {
   "cell_type": "code",
   "execution_count": 6,
   "metadata": {},
   "outputs": [
    {
     "name": "stdout",
     "output_type": "stream",
     "text": [
      "The Himalayas were formed through a process of continental collision that began approximately 50 million years ago and is still ongoing today. Here's a brief overview of their formation:\n",
      "\n",
      "1. Plate Tectonics: The formation of the Himalayas is a result of the movement of tectonic plates, specifically the collision between the Indian Plate and the Eurasian Plate.\n",
      "\n",
      "2. Ancient Ocean: Before the collision, there was an ancient ocean called the Tethys Sea between the Indian and Eurasian plates.\n",
      "\n",
      "3. Northward Movement: The Indian Plate, which was once part of the southern supercontinent Gondwana, began moving northward about 200 million years ago.\n",
      "\n",
      "4. Collision: Around 50-55 million years ago, the Indian Plate collided with the Eurasian Plate. As both plates are composed of continental crust, neither could subduct fully beneath the other.\n",
      "\n",
      "5. Compression and Uplift: The collision caused intense compression of the Earth's crust. The land at the collision zone was forced upwards, creating the Himalayan mountain range.\n",
      "\n",
      "6. Continued Pressure: The Indian Plate continues to move northward at about 1.5 inches (4 cm) per year, maintaining pressure on the Eurasian Plate and causing the Himalayas to grow taller by about 5 mm annually.\n",
      "\n",
      "7. Folding and Faulting: The intense pressure has resulted in complex folding and faulting of rock layers, contributing to the rugged terrain of the Himalayas.\n",
      "\n",
      "This ongoing process of mountain building (orogeny) makes the Himalayas one of the youngest and highest mountain ranges on Earth, with Mount Everest as its highest peak.\n"
     ]
    }
   ],
   "source": [
    "print(j['content'][0]['text'])"
   ]
  },
  {
   "cell_type": "code",
   "execution_count": null,
   "metadata": {},
   "outputs": [],
   "source": []
  }
 ],
 "metadata": {
  "kernelspec": {
   "display_name": "Python 3",
   "language": "python",
   "name": "python3"
  },
  "language_info": {
   "codemirror_mode": {
    "name": "ipython",
    "version": 3
   },
   "file_extension": ".py",
   "mimetype": "text/x-python",
   "name": "python",
   "nbconvert_exporter": "python",
   "pygments_lexer": "ipython3",
   "version": "3.11.9"
  }
 },
 "nbformat": 4,
 "nbformat_minor": 2
}
