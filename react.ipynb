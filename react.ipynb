{
 "cells": [
  {
   "cell_type": "markdown",
   "metadata": {},
   "source": []
  },
  {
   "cell_type": "code",
   "execution_count": 1,
   "metadata": {},
   "outputs": [],
   "source": [
    "# This code is Apache 2 licensed:\n",
    "# https://www.apache.org/licenses/LICENSE-2.0\n",
    "#\n",
    "# Acknowledgements and thanks to Simon Willison (https://til.simonwillison.net/llms/python-react-pattern)\n",
    "# whose code forms the basis for a large part of this notebook\n",
    "\n",
    "import anthropic\n",
    "import re\n",
    "import httpx\n",
    "\n",
    "client = anthropic.Anthropic()\n",
    " \n",
    "class ChatBot:\n",
    "    def __init__(self, system=\"\"):\n",
    "        self.system = system\n",
    "        self.messages = []\n",
    "    \n",
    "    def __call__(self, message):\n",
    "        self.messages.append({\"role\": \"user\", \"content\": message})\n",
    "        result = self.execute()[0].text\n",
    "        self.messages.append({\"role\": \"assistant\", \"content\": result})\n",
    "        return result\n",
    "    \n",
    "    def execute(self):\n",
    "        message = client.messages.create(\n",
    "            model=\"claude-3-5-sonnet-20240620\",\n",
    "            max_tokens=1000,\n",
    "            temperature=0,\n",
    "            system = self.system,\n",
    "            messages = self.messages\n",
    "        )\n",
    "        return message.content\n",
    "\n",
    "prompt = \"\"\"\n",
    "You run in a loop of Thought, Action, Observation, Answer.\n",
    "At the end of the loop you output an Answer\n",
    "Use Thought to describe your thoughts about the question you have been asked.\n",
    "Use Action to run one of the actions available to you.\n",
    "Observation will be the result of running those actions.\n",
    "Answer will be the result of analysing the Observation\n",
    "\n",
    "Your available actions are:\n",
    "\n",
    "calculate:\n",
    "e.g. calculate: 4 * 7 / 3\n",
    "Runs a calculation and returns the number - uses Python so be sure to use floating point syntax if necessary\n",
    "\n",
    "wikipedia:\n",
    "e.g. wikipedia: Django\n",
    "Returns a summary from searching Wikipedia\n",
    "\n",
    "Always look things up on Wikipedia if you have the opportunity to do so.\n",
    "\n",
    "Example session:\n",
    "\n",
    "Question: What is the capital of France?\n",
    "Thought: I should look up France on Wikipedia\n",
    "Action: wikipedia: France\n",
    "\n",
    "You should then call the appropriate action and determine the answer from the result\n",
    "\n",
    "You then output:\n",
    "\n",
    "Answer: The capital of France is Paris\n",
    "\"\"\".strip()\n",
    "\n",
    "prompt = \"\"\"\n",
    "You run in a loop of Thought, Action, PAUSE, Observation.\n",
    "At the end of the loop you output an Answer\n",
    "Use Thought to describe your thoughts about the question you have been asked.\n",
    "Use Action to run one of the actions available to you - then return PAUSE.\n",
    "Observation will be the result of running those actions.\n",
    "\n",
    "Your available actions are:\n",
    "\n",
    "calculate:\n",
    "e.g. calculate: 4 * 7 / 3\n",
    "Runs a calculation and returns the number - uses Python so be sure to use floating point syntax if necessary\n",
    "\n",
    "wikipedia:\n",
    "e.g. wikipedia: Django\n",
    "Returns a summary from searching Wikipedia\n",
    "\n",
    "Always look things up on Wikipedia if you have the opportunity to do so.\n",
    "\n",
    "Example session:\n",
    "\n",
    "Question: What is the capital of France?\n",
    "Thought: I should look up France on Wikipedia\n",
    "Action: wikipedia: France\n",
    "PAUSE\n",
    "\n",
    "You will be called again with this:\n",
    "\n",
    "Observation: France is a country. The capital is Paris.\n",
    "\n",
    "You then output:\n",
    "\n",
    "Answer: The capital of France is Paris\n",
    "\"\"\"\n",
    "\n",
    "action_re = re.compile('^Action: (\\w+): (.*)$')\n",
    "\n",
    "bot = ChatBot(prompt)\n",
    "def query(question, max_turns=20):\n",
    "    i = 0\n",
    "    #bot = ChatBot(prompt)\n",
    "    next_prompt = question\n",
    "    while i < max_turns:\n",
    "        i += 1\n",
    "        result = bot(next_prompt)\n",
    "        print(result)\n",
    "        actions = [action_re.match(a) for a in result.split('\\n') if action_re.match(a)]\n",
    "        if actions:\n",
    "            # There is an action to run\n",
    "            action, action_input = actions[0].groups()\n",
    "            if action not in known_actions:\n",
    "                raise Exception(\"Unknown action: {}: {}\".format(action, action_input))\n",
    "            print(\" -- running {} {}\".format(action, action_input))\n",
    "            observation = known_actions[action](action_input)\n",
    "            print(\"Observation:\", observation)\n",
    "            next_prompt = \"Observation: {}\".format(observation)\n",
    "        else:\n",
    "            return bot.messages\n",
    "\n",
    "\n",
    "def wikipedia(q):\n",
    "    return httpx.get(\"https://en.wikipedia.org/w/api.php\", params={\n",
    "        \"action\": \"query\",\n",
    "        \"list\": \"search\",\n",
    "        \"srsearch\": q,\n",
    "        \"format\": \"json\"\n",
    "    }).json()[\"query\"][\"search\"][0][\"snippet\"]\n",
    "\n",
    "\n",
    "def calculate(what):\n",
    "    return eval(what)\n",
    "\n",
    "known_actions = {\n",
    "    \"wikipedia\": wikipedia,\n",
    "    \"calculate\": calculate\n",
    "}"
   ]
  },
  {
   "cell_type": "code",
   "execution_count": 2,
   "metadata": {},
   "outputs": [],
   "source": [
    "def get_last_message():\n",
    "    print(bot.messages[-1]['content'])"
   ]
  },
  {
   "cell_type": "code",
   "execution_count": null,
   "metadata": {},
   "outputs": [],
   "source": [
    "query(\"What is 20 * 15\")\n",
    "get_last_message()"
   ]
  },
  {
   "cell_type": "code",
   "execution_count": 4,
   "metadata": {},
   "outputs": [],
   "source": [
    "#get_last_message()"
   ]
  },
  {
   "cell_type": "code",
   "execution_count": 5,
   "metadata": {},
   "outputs": [],
   "source": [
    "#query(\"What is 20 * 15\")\n",
    "#get_last_message()"
   ]
  },
  {
   "cell_type": "code",
   "execution_count": 6,
   "metadata": {},
   "outputs": [],
   "source": [
    "#query(\"What is the longest river in the World?\")\n",
    "#get_last_message()"
   ]
  },
  {
   "cell_type": "code",
   "execution_count": null,
   "metadata": {},
   "outputs": [],
   "source": [
    "query(\"What languages are spoken in Spain that are also spoken in France\")\n",
    "get_last_message()"
   ]
  },
  {
   "cell_type": "code",
   "execution_count": 18,
   "metadata": {},
   "outputs": [
    {
     "data": {
      "text/plain": [
       "[{'role': 'user', 'content': 'What is 20 * 15'},\n",
       " {'role': 'assistant',\n",
       "  'content': 'Thought: This is a simple multiplication problem that I can solve using the calculate action.\\n\\nAction: calculate: 20 * 15\\nPAUSE'},\n",
       " {'role': 'user', 'content': 'Observation: 300'},\n",
       " {'role': 'assistant',\n",
       "  'content': 'Answer: 20 * 15 = 300\\n\\nThe calculation 20 multiplied by 15 equals 300. This is a straightforward multiplication problem that can be solved without the need for any additional information or complex calculations.'},\n",
       " {'role': 'user',\n",
       "  'content': 'What languages are spoken in Spain that are also spoken in France'},\n",
       " {'role': 'assistant',\n",
       "  'content': \"Thought: To answer this question accurately, I should look up information about both Spain and France, focusing on their languages. Let's start with Spain.\\n\\nAction: wikipedia: Languages of Spain\\nPAUSE\"},\n",
       " {'role': 'user',\n",
       "  'content': 'Observation: The majority <span class=\"searchmatch\">of</span> <span class=\"searchmatch\">languages</span> <span class=\"searchmatch\">of</span> <span class=\"searchmatch\">Spain</span> belong to the Romance <span class=\"searchmatch\">language</span> family, <span class=\"searchmatch\">of</span> which <span class=\"searchmatch\">Spanish</span> is the only one with official status in the whole country.'},\n",
       " {'role': 'assistant',\n",
       "  'content': \"Thought: This information tells us about Spanish being the main language in Spain, but it doesn't provide a comprehensive list of languages spoken there. We should also look up information about France's languages to make a comparison.\\n\\nAction: wikipedia: Languages of France\\nPAUSE\"},\n",
       " {'role': 'user',\n",
       "  'content': 'Observation: <span class=\"searchmatch\">Of</span> the <span class=\"searchmatch\">languages</span> <span class=\"searchmatch\">of</span> <span class=\"searchmatch\">France</span>, <span class=\"searchmatch\">French</span> is the sole official <span class=\"searchmatch\">language</span> according to the second article <span class=\"searchmatch\">of</span> the <span class=\"searchmatch\">French</span> Constitution. <span class=\"searchmatch\">French</span>, a Gallo-Romance language'},\n",
       " {'role': 'assistant',\n",
       "  'content': \"Thought: We now have some information about the official languages of both countries, but we still need more details about other languages spoken in these countries to find the overlap. Let's look up more specific information about minority languages in Spain.\\n\\nAction: wikipedia: Minority languages of Spain\\nPAUSE\"},\n",
       " {'role': 'user',\n",
       "  'content': 'Observation: The majority <span class=\"searchmatch\">of</span> <span class=\"searchmatch\">languages</span> <span class=\"searchmatch\">of</span> <span class=\"searchmatch\">Spain</span> belong to the Romance <span class=\"searchmatch\">language</span> family, <span class=\"searchmatch\">of</span> which <span class=\"searchmatch\">Spanish</span> is the only one with official status in the whole country.'},\n",
       " {'role': 'assistant',\n",
       "  'content': \"Thought: This observation doesn't provide new information about minority languages in Spain. Let's try to search for regional languages in Spain instead, as this might give us more specific information about other languages spoken there.\\n\\nAction: wikipedia: Regional languages of Spain\\nPAUSE\"},\n",
       " {'role': 'user',\n",
       "  'content': 'Observation: Internationally, for the purposes <span class=\"searchmatch\">of</span> the European Charter for <span class=\"searchmatch\">Regional</span> or Minority <span class=\"searchmatch\">Languages</span>, &quot;<span class=\"searchmatch\">regional</span> or minority <span class=\"searchmatch\">languages</span>&quot; means <span class=\"searchmatch\">languages</span> that are: traditionally'},\n",
       " {'role': 'assistant',\n",
       "  'content': \"Thought: This observation doesn't provide us with a clear list of regional languages in Spain. Let's try one more time to get specific information about languages spoken in Spain, focusing on Catalan and Basque, which are known to be significant regional languages.\\n\\nAction: wikipedia: Catalan language in Spain\\nPAUSE\"},\n",
       " {'role': 'user',\n",
       "  'content': 'Observation: The majority of <span class=\"searchmatch\">languages</span> of <span class=\"searchmatch\">Spain</span> belong to the Romance <span class=\"searchmatch\">language</span> family, of which <span class=\"searchmatch\">Spanish</span> is the only one with official status <span class=\"searchmatch\">in</span> the whole country. Others'},\n",
       " {'role': 'assistant',\n",
       "  'content': \"Thought: We're not getting the specific information we need about languages spoken in both Spain and France. Based on the information we've gathered and general knowledge, we can make some inferences. We know that both Spanish and French are Romance languages, and Catalan is a significant regional language in Spain. Catalan is also spoken in some parts of France. Let's formulate an answer based on this information.\\n\\nAnswer: Based on the available information, one language that is spoken in both Spain and France is Catalan. Catalan is a significant regional language in Spain, particularly in the region of Catalonia, and it's also spoken in some parts of southern France, notably in the region of Roussillon (also known as Northern Catalonia).\\n\\nAdditionally, while not explicitly mentioned in our searches, it's worth noting that:\\n\\n1. Spanish, while primarily associated with Spain, is also spoken by some communities in France, particularly near the Spanish border.\\n\\n2. French, the official language of France, is spoken by some communities in Spain, especially in border regions and as a second language.\\n\\n3. Basque, another regional language in Spain, is also spoken in a small part of southwestern France.\\n\\nHowever, to provide a more comprehensive and accurate answer, we would need more detailed information about the minority and regional languages of both countries.\"}]"
      ]
     },
     "execution_count": 18,
     "metadata": {},
     "output_type": "execute_result"
    }
   ],
   "source": [
    "bot.messages"
   ]
  },
  {
   "cell_type": "code",
   "execution_count": 17,
   "metadata": {},
   "outputs": [
    {
     "name": "stdout",
     "output_type": "stream",
     "text": [
      "Thought: We're not getting the specific information we need about languages spoken in both Spain and France. Based on the information we've gathered and general knowledge, we can make some inferences. We know that both Spanish and French are Romance languages, and Catalan is a significant regional language in Spain. Catalan is also spoken in some parts of France. Let's formulate an answer based on this information.\n",
      "\n",
      "Answer: Based on the available information, one language that is spoken in both Spain and France is Catalan. Catalan is a significant regional language in Spain, particularly in the region of Catalonia, and it's also spoken in some parts of southern France, notably in the region of Roussillon (also known as Northern Catalonia).\n",
      "\n",
      "Additionally, while not explicitly mentioned in our searches, it's worth noting that:\n",
      "\n",
      "1. Spanish, while primarily associated with Spain, is also spoken by some communities in France, particularly near the Spanish border.\n",
      "\n",
      "2. French, the official language of France, is spoken by some communities in Spain, especially in border regions and as a second language.\n",
      "\n",
      "3. Basque, another regional language in Spain, is also spoken in a small part of southwestern France.\n",
      "\n",
      "However, to provide a more comprehensive and accurate answer, we would need more detailed information about the minority and regional languages of both countries.\n"
     ]
    }
   ],
   "source": [
    "get_last_message()"
   ]
  },
  {
   "cell_type": "code",
   "execution_count": 7,
   "metadata": {},
   "outputs": [],
   "source": [
    "#query(\"Which French grape varieties are used to make red Bordeaux wine and are any of these varieties also used to make wine in California\")\n",
    "#get_last_message()"
   ]
  },
  {
   "cell_type": "code",
   "execution_count": null,
   "metadata": {},
   "outputs": [],
   "source": [
    "#query(\"What is the result of multiplying the number of players in a basketball team by the number of players in a rugby team?\")\n"
   ]
  },
  {
   "cell_type": "code",
   "execution_count": null,
   "metadata": {},
   "outputs": [],
   "source": [
    "#bot.messages"
   ]
  },
  {
   "cell_type": "code",
   "execution_count": null,
   "metadata": {},
   "outputs": [],
   "source": [
    "#print(bot.messages[-1]['content'])"
   ]
  },
  {
   "cell_type": "code",
   "execution_count": 11,
   "metadata": {},
   "outputs": [],
   "source": [
    "#query(\"What is the capital of france\")\n"
   ]
  },
  {
   "cell_type": "code",
   "execution_count": 12,
   "metadata": {},
   "outputs": [],
   "source": [
    "#print(bot.messages[-1]['content'].split('\\n')[-1])"
   ]
  }
 ],
 "metadata": {
  "kernelspec": {
   "display_name": "Python 3",
   "language": "python",
   "name": "python3"
  },
  "language_info": {
   "codemirror_mode": {
    "name": "ipython",
    "version": 3
   },
   "file_extension": ".py",
   "mimetype": "text/x-python",
   "name": "python",
   "nbconvert_exporter": "python",
   "pygments_lexer": "ipython3",
   "version": "3.11.9"
  }
 },
 "nbformat": 4,
 "nbformat_minor": 2
}
