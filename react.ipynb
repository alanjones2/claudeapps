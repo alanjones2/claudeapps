{
 "cells": [
  {
   "cell_type": "markdown",
   "metadata": {},
   "source": []
  },
  {
   "cell_type": "code",
   "execution_count": 1,
   "metadata": {},
   "outputs": [],
   "source": [
    "# This code is Apache 2 licensed:\n",
    "# https://www.apache.org/licenses/LICENSE-2.0\n",
    "#\n",
    "# Acknowledgements and thanks to Simon Willison (https://til.simonwillison.net/llms/python-react-pattern)\n",
    "# whose code forms the basis for a large part of this notebook\n",
    "\n",
    "import anthropic\n",
    "import re\n",
    "import httpx\n",
    "\n",
    "client = anthropic.Anthropic()\n",
    " \n",
    "class ChatBot:\n",
    "    def __init__(self, system=\"\"):\n",
    "        self.system = system\n",
    "        self.messages = []\n",
    "    \n",
    "    def __call__(self, message):\n",
    "        self.messages.append({\"role\": \"user\", \"content\": message})\n",
    "        result = self.execute()[0].text\n",
    "        self.messages.append({\"role\": \"assistant\", \"content\": result})\n",
    "        return result\n",
    "    \n",
    "    def execute(self):\n",
    "        message = client.messages.create(\n",
    "            model=\"claude-3-5-sonnet-20240620\",\n",
    "            max_tokens=1000,\n",
    "            temperature=0,\n",
    "            system = self.system,\n",
    "            messages = self.messages\n",
    "        )\n",
    "        return message.content\n",
    "\n",
    "prompt = \"\"\"\n",
    "You run in a loop of Thought, Action, Observation, Answer.\n",
    "At the end of the loop you output an Answer\n",
    "Use Thought to describe your thoughts about the question you have been asked.\n",
    "Use Action to run one of the actions available to you.\n",
    "Observation will be the result of running those actions.\n",
    "Answer will be the result of analysing the Observation\n",
    "\n",
    "Your available actions are:\n",
    "\n",
    "calculate:\n",
    "e.g. calculate: 4 * 7 / 3\n",
    "Runs a calculation and returns the number - uses Python so be sure to use floating point syntax if necessary\n",
    "\n",
    "wikipedia:\n",
    "e.g. wikipedia: Django\n",
    "Returns a summary from searching Wikipedia\n",
    "\n",
    "Always look things up on Wikipedia if you have the opportunity to do so.\n",
    "\n",
    "Example session:\n",
    "\n",
    "Question: What is the capital of France?\n",
    "Thought: I should look up France on Wikipedia\n",
    "Action: wikipedia: France\n",
    "\n",
    "You should then call the appropriate action and determine the answer from the result\n",
    "\n",
    "You then output:\n",
    "\n",
    "Answer: The capital of France is Paris\n",
    "\"\"\".strip()\n",
    "\n",
    "prompt = \"\"\"\n",
    "You run in a loop of Thought, Action, PAUSE, Observation.\n",
    "At the end of the loop you output an Answer\n",
    "Use Thought to describe your thoughts about the question you have been asked.\n",
    "Use Action to run one of the actions available to you - then return PAUSE.\n",
    "Observation will be the result of running those actions.\n",
    "\n",
    "Your available actions are:\n",
    "\n",
    "calculate:\n",
    "e.g. calculate: 4 * 7 / 3\n",
    "Runs a calculation and returns the number - uses Python so be sure to use floating point syntax if necessary\n",
    "\n",
    "wikipedia:\n",
    "e.g. wikipedia: Django\n",
    "Returns a summary from searching Wikipedia\n",
    "\n",
    "Always look things up on Wikipedia if you have the opportunity to do so.\n",
    "\n",
    "Example session:\n",
    "\n",
    "Question: What is the capital of France?\n",
    "Thought: I should look up France on Wikipedia\n",
    "Action: wikipedia: France\n",
    "PAUSE\n",
    "\n",
    "You will be called again with this:\n",
    "\n",
    "Observation: France is a country. The capital is Paris.\n",
    "\n",
    "You then output:\n",
    "\n",
    "Answer: The capital of France is Paris\n",
    "\"\"\"\n",
    "\n",
    "action_re = re.compile('^Action: (\\w+): (.*)$')\n",
    "\n",
    "bot = ChatBot(prompt)\n",
    "def query(question, max_turns=20):\n",
    "    i = 0\n",
    "    #bot = ChatBot(prompt)\n",
    "    next_prompt = question\n",
    "    while i < max_turns:\n",
    "        i += 1\n",
    "        result = bot(next_prompt)\n",
    "        print(result)\n",
    "        actions = [action_re.match(a) for a in result.split('\\n') if action_re.match(a)]\n",
    "        if actions:\n",
    "            # There is an action to run\n",
    "            action, action_input = actions[0].groups()\n",
    "            if action not in known_actions:\n",
    "                raise Exception(\"Unknown action: {}: {}\".format(action, action_input))\n",
    "            print(\" -- running {} {}\".format(action, action_input))\n",
    "            observation = known_actions[action](action_input)\n",
    "            print(\"Observation:\", observation)\n",
    "            next_prompt = \"Observation: {}\".format(observation)\n",
    "        else:\n",
    "            return bot.messages\n",
    "\n",
    "\n",
    "def wikipedia(q):\n",
    "    return httpx.get(\"https://en.wikipedia.org/w/api.php\", params={\n",
    "        \"action\": \"query\",\n",
    "        \"list\": \"search\",\n",
    "        \"srsearch\": q,\n",
    "        \"format\": \"json\"\n",
    "    }).json()[\"query\"][\"search\"][0][\"snippet\"]\n",
    "\n",
    "\n",
    "def calculate(what):\n",
    "    return eval(what)\n",
    "\n",
    "known_actions = {\n",
    "    \"wikipedia\": wikipedia,\n",
    "    \"calculate\": calculate\n",
    "}"
   ]
  },
  {
   "cell_type": "code",
   "execution_count": 2,
   "metadata": {},
   "outputs": [],
   "source": [
    "def get_last_message():\n",
    "    print(bot.messages[-1]['content'])"
   ]
  },
  {
   "cell_type": "code",
   "execution_count": null,
   "metadata": {},
   "outputs": [],
   "source": [
    "query(\"What is 20 * 15\")\n",
    "get_last_message()"
   ]
  },
  {
   "cell_type": "code",
   "execution_count": 3,
   "metadata": {},
   "outputs": [],
   "source": [
    "#get_last_message()"
   ]
  },
  {
   "cell_type": "code",
   "execution_count": 4,
   "metadata": {},
   "outputs": [],
   "source": [
    "#query(\"What is 20 * 15\")\n",
    "#get_last_message()"
   ]
  },
  {
   "cell_type": "code",
   "execution_count": 5,
   "metadata": {},
   "outputs": [],
   "source": [
    "#query(\"What is the longest river in the World?\")\n",
    "#get_last_message()"
   ]
  },
  {
   "cell_type": "code",
   "execution_count": 18,
   "metadata": {},
   "outputs": [
    {
     "name": "stdout",
     "output_type": "stream",
     "text": [
      "Thought: To answer this question, I need to research the languages spoken in both Spain and France. I'll start by looking up information about languages in Spain.\n",
      "\n",
      "Action: wikipedia: Languages of Spain\n",
      "PAUSE\n",
      " -- running wikipedia Languages of Spain\n",
      "Observation: The majority <span class=\"searchmatch\">of</span> <span class=\"searchmatch\">languages</span> <span class=\"searchmatch\">of</span> <span class=\"searchmatch\">Spain</span> belong to the Romance <span class=\"searchmatch\">language</span> family, <span class=\"searchmatch\">of</span> which <span class=\"searchmatch\">Spanish</span> is the only one with official status in the whole country.\n",
      "Thought: This information doesn't provide a comprehensive list of languages spoken in Spain. I need to look for more specific information about the languages of Spain, particularly those that might also be spoken in France.\n",
      "\n",
      "Action: wikipedia: Languages of Spain list\n",
      "PAUSE\n",
      " -- running wikipedia Languages of Spain list\n",
      "Observation: The majority <span class=\"searchmatch\">of</span> <span class=\"searchmatch\">languages</span> <span class=\"searchmatch\">of</span> <span class=\"searchmatch\">Spain</span> belong to the Romance <span class=\"searchmatch\">language</span> family, <span class=\"searchmatch\">of</span> which <span class=\"searchmatch\">Spanish</span> is the only one with official status in the whole country.\n",
      "Thought: I'm still not getting a comprehensive list of languages spoken in Spain. Let me try to look up information about languages in France, as this might give us some clues about shared languages.\n",
      "\n",
      "Action: wikipedia: Languages of France\n",
      "PAUSE\n",
      " -- running wikipedia Languages of France\n",
      "Observation: <span class=\"searchmatch\">Of</span> the <span class=\"searchmatch\">languages</span> <span class=\"searchmatch\">of</span> <span class=\"searchmatch\">France</span>, <span class=\"searchmatch\">French</span> is the sole official <span class=\"searchmatch\">language</span> according to the second article <span class=\"searchmatch\">of</span> the <span class=\"searchmatch\">French</span> Constitution. <span class=\"searchmatch\">French</span>, a Gallo-Romance language\n",
      "Thought: I'm still not getting a comprehensive list of languages for either country. However, based on the information we have, we know that both Spain and France have Romance languages. Let's try to find information about specific Romance languages that might be shared between the two countries.\n",
      "\n",
      "Action: wikipedia: Catalan language\n",
      "PAUSE\n",
      " -- running wikipedia Catalan language\n",
      "Observation: <span class=\"searchmatch\">Catalan</span> (autonym: català, for pronunciation see below) is a Western Romance <span class=\"searchmatch\">language</span>. It is the official <span class=\"searchmatch\">language</span> of Andorra, and an official language\n",
      "Thought: This is helpful information. Catalan is a Romance language, and it's likely spoken in both Spain and France. Let's confirm if it's spoken in both countries.\n",
      "\n",
      "Action: wikipedia: Catalan language in Spain and France\n",
      "PAUSE\n",
      " -- running wikipedia Catalan language in Spain and France\n",
      "Observation: <span class=\"searchmatch\">Catalan</span> (autonym: català, for pronunciation see below) is a Western Romance <span class=\"searchmatch\">language</span>. It is the official <span class=\"searchmatch\">language</span> of Andorra, <span class=\"searchmatch\">and</span> an official language\n",
      "Thought: The information provided doesn't explicitly confirm that Catalan is spoken in both Spain and France. However, from my knowledge, I know that Catalan is indeed spoken in both countries. Let's look for another language that might be shared between Spain and France.\n",
      "\n",
      "Action: wikipedia: Basque language\n",
      "PAUSE\n",
      " -- running wikipedia Basque language\n",
      "Observation: Indo-European <span class=\"searchmatch\">languages</span> that dominate the European continent today. <span class=\"searchmatch\">Basque</span> is spoken by the <span class=\"searchmatch\">Basques</span> and other residents of the <span class=\"searchmatch\">Basque</span> Country, a region\n",
      "Thought: This information suggests that Basque is spoken in the Basque Country, which I know spans parts of both Spain and France. Now we have identified two languages that are likely spoken in both countries: Catalan and Basque. Let's confirm this with one more search.\n",
      "\n",
      "Action: wikipedia: Languages spoken in both Spain and France\n",
      "PAUSE\n",
      " -- running wikipedia Languages spoken in both Spain and France\n",
      "Observation: Gallo-Romance <span class=\"searchmatch\">language</span>, is <span class=\"searchmatch\">spoken</span> by nearly the entire population of <span class=\"searchmatch\">France</span>. <span class=\"searchmatch\">In</span> addition to <span class=\"searchmatch\">French</span>, several regional <span class=\"searchmatch\">languages</span> are also <span class=\"searchmatch\">spoken</span> to varying\n",
      "Thought: While this search didn't provide a direct list of languages spoken in both countries, we can compile an answer based on the information we've gathered and my existing knowledge.\n",
      "\n",
      "Answer: Based on the research, there are at least two languages spoken in both Spain and France:\n",
      "\n",
      "1. Catalan: A Romance language spoken in parts of eastern Spain and southern France.\n",
      "2. Basque: A language spoken in the Basque Country, which spans parts of northern Spain and southwestern France.\n",
      "\n",
      "Additionally, while not confirmed in our searches, it's worth noting that:\n",
      "\n",
      "3. Occitan: Another Romance language traditionally spoken in southern France and parts of Spain (specifically in the Val d'Aran in Catalonia).\n",
      "\n",
      "These languages are spoken in addition to the official languages of each country (Spanish in Spain and French in France). It's important to note that the prevalence and official status of these languages may vary in different regions of each country.\n",
      "These languages are spoken in addition to the official languages of each country (Spanish in Spain and French in France). It's important to note that the prevalence and official status of these languages may vary in different regions of each country.\n"
     ]
    }
   ],
   "source": [
    "query(\"What languages are spoken in Spain that are also spoken in France\")\n",
    "get_last_message()"
   ]
  },
  {
   "cell_type": "code",
   "execution_count": 23,
   "metadata": {},
   "outputs": [
    {
     "data": {
      "text/plain": [
       "\"Thought: While this search didn't provide a direct list of languages spoken in both countries, we can compile an answer based on the information we've gathered and my existing knowledge.\\n\\nAnswer: Based on the research, there are at least two languages spoken in both Spain and France:\\n\\n1. Catalan: A Romance language spoken in parts of eastern Spain and southern France.\\n2. Basque: A language spoken in the Basque Country, which spans parts of northern Spain and southwestern France.\\n\\nAdditionally, while not confirmed in our searches, it's worth noting that:\\n\\n3. Occitan: Another Romance language traditionally spoken in southern France and parts of Spain (specifically in the Val d'Aran in Catalonia).\\n\\nThese languages are spoken in addition to the official languages of each country (Spanish in Spain and French in France). It's important to note that the prevalence and official status of these languages may vary in different regions of each country.\""
      ]
     },
     "execution_count": 23,
     "metadata": {},
     "output_type": "execute_result"
    }
   ],
   "source": [
    "bot.messages[-1]['content']"
   ]
  },
  {
   "cell_type": "code",
   "execution_count": 7,
   "metadata": {},
   "outputs": [],
   "source": [
    "#query(\"Which French grape varieties are used to make red Bordeaux wine and are any of these varieties also used to make wine in California\")\n",
    "#get_last_message()"
   ]
  },
  {
   "cell_type": "code",
   "execution_count": null,
   "metadata": {},
   "outputs": [],
   "source": [
    "#query(\"What is the result of multiplying the number of players in a basketball team by the number of players in a rugby team?\")\n"
   ]
  },
  {
   "cell_type": "code",
   "execution_count": null,
   "metadata": {},
   "outputs": [],
   "source": [
    "#bot.messages"
   ]
  },
  {
   "cell_type": "code",
   "execution_count": null,
   "metadata": {},
   "outputs": [],
   "source": [
    "#print(bot.messages[-1]['content'])"
   ]
  },
  {
   "cell_type": "code",
   "execution_count": 11,
   "metadata": {},
   "outputs": [],
   "source": [
    "#query(\"What is the capital of france\")\n"
   ]
  },
  {
   "cell_type": "code",
   "execution_count": 12,
   "metadata": {},
   "outputs": [],
   "source": [
    "#print(bot.messages[-1]['content'].split('\\n')[-1])"
   ]
  }
 ],
 "metadata": {
  "kernelspec": {
   "display_name": "Python 3",
   "language": "python",
   "name": "python3"
  },
  "language_info": {
   "codemirror_mode": {
    "name": "ipython",
    "version": 3
   },
   "file_extension": ".py",
   "mimetype": "text/x-python",
   "name": "python",
   "nbconvert_exporter": "python",
   "pygments_lexer": "ipython3",
   "version": "3.11.9"
  }
 },
 "nbformat": 4,
 "nbformat_minor": 2
}
